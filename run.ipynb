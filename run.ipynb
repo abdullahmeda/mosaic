{
 "cells": [
  {
   "cell_type": "code",
   "execution_count": 1,
   "metadata": {},
   "outputs": [
    {
     "name": "stdout",
     "output_type": "stream",
     "text": [
      "CPU times: user 3.37 s, sys: 190 ms, total: 3.56 s\n",
      "Wall time: 2.82 s\n"
     ]
    }
   ],
   "source": [
    "%%time\n",
    "\n",
    "from mosaic import Mosaic"
   ]
  },
  {
   "cell_type": "code",
   "execution_count": null,
   "metadata": {},
   "outputs": [],
   "source": [
    "mosaic = Mosaic.from_api('testoo', \"http://localhost:8000/colqwen2/embed\", binary_quantization=False)\n",
    "\n",
    "mosaic.index_file('docs/meetkaggle.pdf', {'title': 'Meet Kaggle', 'author': 'Kaggle'})"
   ]
  },
  {
   "cell_type": "code",
   "execution_count": 3,
   "metadata": {},
   "outputs": [
    {
     "data": {
      "text/plain": [
       "[ScoredPoint(id='3d0e8342-a9b4-43d7-85a7-241b421be96b', version=0, score=15.492110181316308, payload={'path': 'docs/meetkaggle.pdf', 'page': 11, 'title': 'Meet Kaggle', 'author': 'Kaggle'}, vector=None, shard_key=None, order_value=None),\n",
       " ScoredPoint(id='01101ddc-793e-4d0a-a925-bfb2f931cb90', version=0, score=11.69721807515562, payload={'path': 'docs/meetkaggle.pdf', 'page': 9, 'title': 'Meet Kaggle', 'author': 'Kaggle'}, vector=None, shard_key=None, order_value=None),\n",
       " ScoredPoint(id='f8ffe3d1-4f05-4a37-9be0-4d0d659b5a3c', version=0, score=9.102410784201558, payload={'path': 'docs/meetkaggle.pdf', 'page': 7, 'title': 'Meet Kaggle', 'author': 'Kaggle'}, vector=None, shard_key=None, order_value=None),\n",
       " ScoredPoint(id='0ba0b5e4-2587-4039-bcfd-7350f9800422', version=0, score=8.888637574387701, payload={'path': 'docs/meetkaggle.pdf', 'page': 8, 'title': 'Meet Kaggle', 'author': 'Kaggle'}, vector=None, shard_key=None, order_value=None),\n",
       " ScoredPoint(id='ab017582-3659-4cd7-b866-d0f5cf6ccef4', version=0, score=8.4824600509692, payload={'path': 'docs/meetkaggle.pdf', 'page': 3, 'title': 'Meet Kaggle', 'author': 'Kaggle'}, vector=None, shard_key=None, order_value=None)]"
      ]
     },
     "execution_count": 3,
     "metadata": {},
     "output_type": "execute_result"
    }
   ],
   "source": [
    "mosaic.search('What are the next steps mentioned?')"
   ]
  },
  {
   "cell_type": "code",
   "execution_count": null,
   "metadata": {},
   "outputs": [],
   "source": []
  },
  {
   "cell_type": "code",
   "execution_count": null,
   "metadata": {},
   "outputs": [],
   "source": []
  },
  {
   "cell_type": "code",
   "execution_count": null,
   "metadata": {},
   "outputs": [],
   "source": []
  },
  {
   "cell_type": "code",
   "execution_count": null,
   "metadata": {},
   "outputs": [],
   "source": []
  }
 ],
 "metadata": {
  "kernelspec": {
   "display_name": ".venv",
   "language": "python",
   "name": "python3"
  },
  "language_info": {
   "codemirror_mode": {
    "name": "ipython",
    "version": 3
   },
   "file_extension": ".py",
   "mimetype": "text/x-python",
   "name": "python",
   "nbconvert_exporter": "python",
   "pygments_lexer": "ipython3",
   "version": "3.10.12"
  }
 },
 "nbformat": 4,
 "nbformat_minor": 2
}
