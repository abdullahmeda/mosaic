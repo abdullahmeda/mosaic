{
 "cells": [
  {
   "cell_type": "code",
   "execution_count": 5,
   "metadata": {},
   "outputs": [],
   "source": [
    "import antigravity"
   ]
  },
  {
   "cell_type": "code",
   "execution_count": 1,
   "metadata": {},
   "outputs": [],
   "source": [
    "# %%time\n",
    "\n",
    "from mosaic import Mosaic, QdrantClient"
   ]
  },
  {
   "cell_type": "code",
   "execution_count": 2,
   "metadata": {},
   "outputs": [],
   "source": [
    "client = QdrantClient(host=\"localhost\", port=6333, timeout=60)"
   ]
  },
  {
   "cell_type": "code",
   "execution_count": 3,
   "metadata": {},
   "outputs": [],
   "source": [
    "mosaic = Mosaic.from_api('test_big_6', \"http://localhost:8000/colqwen2/v1/test_embeddings\", client, binary_quantization=False)"
   ]
  },
  {
   "cell_type": "code",
   "execution_count": 4,
   "metadata": {},
   "outputs": [
    {
     "name": "stderr",
     "output_type": "stream",
     "text": [
      "Indexing docs/meetkaggle.pdf: 100%|██████████| 12/12 [00:02<00:00,  5.59it/s]\n"
     ]
    },
    {
     "data": {
      "text/plain": [
       "{'0d8566c4-f51d-4c3e-bbb2-2454bc7d4b53': '/home/abdullah/Projects/mosaic/docs/meetkaggle.pdf'}"
      ]
     },
     "execution_count": 4,
     "metadata": {},
     "output_type": "execute_result"
    }
   ],
   "source": [
    "mosaic.index_directory('docs', store_img_bs64=False)"
   ]
  },
  {
   "cell_type": "code",
   "execution_count": 5,
   "metadata": {},
   "outputs": [
    {
     "ename": "KeyError",
     "evalue": "0",
     "output_type": "error",
     "traceback": [
      "\u001b[0;31m---------------------------------------------------------------------------\u001b[0m",
      "\u001b[0;31mKeyError\u001b[0m                                  Traceback (most recent call last)",
      "Cell \u001b[0;32mIn[5], line 1\u001b[0m\n\u001b[0;32m----> 1\u001b[0m \u001b[43mmosaic\u001b[49m\u001b[38;5;241;43m.\u001b[39;49m\u001b[43msearch_text\u001b[49m\u001b[43m(\u001b[49m\u001b[38;5;124;43m'\u001b[39;49m\u001b[38;5;124;43mWhat are the next steps mentioned?\u001b[39;49m\u001b[38;5;124;43m'\u001b[39;49m\u001b[43m,\u001b[49m\u001b[43m \u001b[49m\u001b[43mtop_k\u001b[49m\u001b[38;5;241;43m=\u001b[39;49m\u001b[38;5;241;43m2\u001b[39;49m\u001b[43m)\u001b[49m\n",
      "File \u001b[0;32m~/Projects/mosaic/mosaic/mosaic.py:290\u001b[0m, in \u001b[0;36mMosaic.search_text\u001b[0;34m(self, query, top_k)\u001b[0m\n\u001b[1;32m    281\u001b[0m \u001b[38;5;28;01mdef\u001b[39;00m\u001b[38;5;250m \u001b[39m\u001b[38;5;21msearch_text\u001b[39m(\n\u001b[1;32m    282\u001b[0m     \u001b[38;5;28mself\u001b[39m, \n\u001b[1;32m    283\u001b[0m     query: \u001b[38;5;28mstr\u001b[39m, \n\u001b[1;32m    284\u001b[0m     top_k: \u001b[38;5;28mint\u001b[39m \u001b[38;5;241m=\u001b[39m \u001b[38;5;241m5\u001b[39m\n\u001b[1;32m    285\u001b[0m ):\n\u001b[1;32m    286\u001b[0m     embedding \u001b[38;5;241m=\u001b[39m \u001b[38;5;28mself\u001b[39m\u001b[38;5;241m.\u001b[39minference_client\u001b[38;5;241m.\u001b[39mencode_query(query)\n\u001b[1;32m    288\u001b[0m     results \u001b[38;5;241m=\u001b[39m \u001b[38;5;28mself\u001b[39m\u001b[38;5;241m.\u001b[39mqdrant_client\u001b[38;5;241m.\u001b[39mquery_points(\n\u001b[1;32m    289\u001b[0m         collection_name\u001b[38;5;241m=\u001b[39m\u001b[38;5;28mself\u001b[39m\u001b[38;5;241m.\u001b[39mcollection_name,\n\u001b[0;32m--> 290\u001b[0m         query\u001b[38;5;241m=\u001b[39m\u001b[43membedding\u001b[49m\u001b[43m[\u001b[49m\u001b[38;5;241;43m0\u001b[39;49m\u001b[43m]\u001b[49m,\n\u001b[1;32m    291\u001b[0m         limit\u001b[38;5;241m=\u001b[39mtop_k\n\u001b[1;32m    292\u001b[0m     )\n\u001b[1;32m    294\u001b[0m     documents \u001b[38;5;241m=\u001b[39m []\n\u001b[1;32m    295\u001b[0m     \u001b[38;5;28;01mfor\u001b[39;00m rank, point \u001b[38;5;129;01min\u001b[39;00m \u001b[38;5;28menumerate\u001b[39m(results\u001b[38;5;241m.\u001b[39mpoints, start\u001b[38;5;241m=\u001b[39m\u001b[38;5;241m1\u001b[39m):\n",
      "\u001b[0;31mKeyError\u001b[0m: 0"
     ]
    }
   ],
   "source": [
    "mosaic.search_text('What are the next steps mentioned?', top_k=2)"
   ]
  },
  {
   "cell_type": "code",
   "execution_count": 3,
   "metadata": {},
   "outputs": [
    {
     "data": {
      "text/plain": [
       "[ScoredPoint(id='3d0e8342-a9b4-43d7-85a7-241b421be96b', version=0, score=15.492110181316308, payload={'path': 'docs/meetkaggle.pdf', 'page': 11, 'title': 'Meet Kaggle', 'author': 'Kaggle'}, vector=None, shard_key=None, order_value=None),\n",
       " ScoredPoint(id='01101ddc-793e-4d0a-a925-bfb2f931cb90', version=0, score=11.69721807515562, payload={'path': 'docs/meetkaggle.pdf', 'page': 9, 'title': 'Meet Kaggle', 'author': 'Kaggle'}, vector=None, shard_key=None, order_value=None),\n",
       " ScoredPoint(id='f8ffe3d1-4f05-4a37-9be0-4d0d659b5a3c', version=0, score=9.102410784201558, payload={'path': 'docs/meetkaggle.pdf', 'page': 7, 'title': 'Meet Kaggle', 'author': 'Kaggle'}, vector=None, shard_key=None, order_value=None),\n",
       " ScoredPoint(id='0ba0b5e4-2587-4039-bcfd-7350f9800422', version=0, score=8.888637574387701, payload={'path': 'docs/meetkaggle.pdf', 'page': 8, 'title': 'Meet Kaggle', 'author': 'Kaggle'}, vector=None, shard_key=None, order_value=None),\n",
       " ScoredPoint(id='ab017582-3659-4cd7-b866-d0f5cf6ccef4', version=0, score=8.4824600509692, payload={'path': 'docs/meetkaggle.pdf', 'page': 3, 'title': 'Meet Kaggle', 'author': 'Kaggle'}, vector=None, shard_key=None, order_value=None)]"
      ]
     },
     "execution_count": 3,
     "metadata": {},
     "output_type": "execute_result"
    }
   ],
   "source": [
    "mosaic.search('What are the next steps mentioned?')"
   ]
  },
  {
   "cell_type": "code",
   "execution_count": null,
   "metadata": {},
   "outputs": [],
   "source": [
    "import numpy as np\n",
    "\n",
    "shape = (1, 747, 128)\n",
    "numpy_array_zeros = np.zeros((1, 747, 128)).tolist()"
   ]
  },
  {
   "cell_type": "code",
   "execution_count": null,
   "metadata": {},
   "outputs": [],
   "source": []
  },
  {
   "cell_type": "code",
   "execution_count": null,
   "metadata": {},
   "outputs": [],
   "source": []
  },
  {
   "cell_type": "code",
   "execution_count": null,
   "metadata": {},
   "outputs": [],
   "source": [
    "# deactivate\n",
    "# python3 -m build\n",
    "# python3 -m twine upload dist/<>.whl"
   ]
  }
 ],
 "metadata": {
  "kernelspec": {
   "display_name": ".venv",
   "language": "python",
   "name": "python3"
  },
  "language_info": {
   "codemirror_mode": {
    "name": "ipython",
    "version": 3
   },
   "file_extension": ".py",
   "mimetype": "text/x-python",
   "name": "python",
   "nbconvert_exporter": "python",
   "pygments_lexer": "ipython3",
   "version": "3.10.12"
  }
 },
 "nbformat": 4,
 "nbformat_minor": 2
}
